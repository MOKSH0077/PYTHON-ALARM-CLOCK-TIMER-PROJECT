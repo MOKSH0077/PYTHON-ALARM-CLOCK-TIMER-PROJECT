{
 "cells": [
  {
   "cell_type": "markdown",
   "id": "009d70e9-eb74-4187-b624-9ac96d01ddea",
   "metadata": {},
   "source": [
    "#  PROJECT --- PYTHON ALARM CLOCK"
   ]
  },
  {
   "cell_type": "code",
   "execution_count": 1,
   "id": "bdbf0b1c-06d3-416c-8c3f-883b37991da8",
   "metadata": {},
   "outputs": [
    {
     "name": "stdout",
     "output_type": "stream",
     "text": [
      "Requirement already satisfied: playsound in c:\\users\\anjal\\anaconda3\\lib\\site-packages (1.3.0)\n"
     ]
    }
   ],
   "source": [
    "!pip install playsound\n"
   ]
  },
  {
   "cell_type": "code",
   "execution_count": null,
   "id": "2429f93a-5ff3-47e8-ab8f-7acdebbb0d97",
   "metadata": {},
   "outputs": [
    {
     "name": "stdin",
     "output_type": "stream",
     "text": [
      "ALARM FOR MINUTES:  0\n",
      "ALARM FOR SECONDS:  15\n"
     ]
    },
    {
     "name": "stdout",
     "output_type": "stream",
     "text": [
      "ALARM WILL SOUND IN : 00:01\n",
      "Time's up! Playing sound...\n"
     ]
    }
   ],
   "source": [
    "import time\n",
    "import os\n",
    "import sys\n",
    "from playsound import playsound\n",
    "\n",
    "def alarm(seconds):\n",
    "    time_beetna = 0\n",
    "    while time_beetna < seconds:\n",
    "        # Clear screen (cross-platform)\n",
    "        os.system('cls' if os.name == 'nt' else 'clear')\n",
    "        \n",
    "        time_left = seconds - time_beetna\n",
    "        minute_left = time_left // 60\n",
    "        seconds_left = time_left % 60\n",
    "        \n",
    "        # Print the countdown on one line\n",
    "        print(f\"ALARM WILL SOUND IN : {minute_left:02d}:{seconds_left:02d}\", end=\"\\r\")\n",
    "        \n",
    "        sys.stdout.flush()  # Force immediate screen update\n",
    "        time.sleep(1)\n",
    "        time_beetna += 1\n",
    "    \n",
    "    # Once the countdown finishes, play the alarm sound\n",
    "    print()  # Move to a new line\n",
    "    print(\"Time's up! Playing sound...\")\n",
    "    playsound(r\"C:\\\\MUSIC\\\\ontop.mp3\")\n",
    "\n",
    "total_minutes = int(input('ALARM FOR MINUTES: '))\n",
    "total_seconds = int(input('ALARM FOR SECONDS: '))\n",
    "total_time = total_minutes * 60 + total_seconds\n",
    "\n",
    "\n",
    "alarm(total_time)\n"
   ]
  },
  {
   "cell_type": "code",
   "execution_count": null,
   "id": "9a38dc7e-c1c3-4ca1-bffc-76a0d4e39f5b",
   "metadata": {},
   "outputs": [],
   "source": []
  },
  {
   "cell_type": "code",
   "execution_count": null,
   "id": "2dc15c8d-e53d-49e2-9941-c6bc321636d7",
   "metadata": {},
   "outputs": [],
   "source": []
  }
 ],
 "metadata": {
  "kernelspec": {
   "display_name": "Python 3 (ipykernel)",
   "language": "python",
   "name": "python3"
  },
  "language_info": {
   "codemirror_mode": {
    "name": "ipython",
    "version": 3
   },
   "file_extension": ".py",
   "mimetype": "text/x-python",
   "name": "python",
   "nbconvert_exporter": "python",
   "pygments_lexer": "ipython3",
   "version": "3.11.7"
  }
 },
 "nbformat": 4,
 "nbformat_minor": 5
}
